{
 "cells": [
  {
   "cell_type": "markdown",
   "id": "12207691",
   "metadata": {
    "papermill": {
     "duration": 0.004482,
     "end_time": "2023-10-15T19:46:49.483246",
     "exception": false,
     "start_time": "2023-10-15T19:46:49.478764",
     "status": "completed"
    },
    "tags": []
   },
   "source": [
    "# Collaborative Filtering (İş Birlikçi Filtreleme)\n",
    "- Item-Based Collective Filtering\n",
    "- User-Based Collective Filtering\n",
    "- Model-Based Collective Filtering"
   ]
  },
  {
   "cell_type": "markdown",
   "id": "8a841ebf",
   "metadata": {
    "papermill": {
     "duration": 0.002677,
     "end_time": "2023-10-15T19:46:49.489557",
     "exception": false,
     "start_time": "2023-10-15T19:46:49.486880",
     "status": "completed"
    },
    "tags": []
   },
   "source": [
    "#### 1. Item Based Collective Filtering"
   ]
  },
  {
   "cell_type": "code",
   "execution_count": 1,
   "id": "b188f960",
   "metadata": {
    "execution": {
     "iopub.execute_input": "2023-10-15T19:46:49.498079Z",
     "iopub.status.busy": "2023-10-15T19:46:49.497598Z",
     "iopub.status.idle": "2023-10-15T19:47:24.829594Z",
     "shell.execute_reply": "2023-10-15T19:47:24.828293Z"
    },
    "papermill": {
     "duration": 35.343567,
     "end_time": "2023-10-15T19:47:24.836131",
     "exception": false,
     "start_time": "2023-10-15T19:46:49.492564",
     "status": "completed"
    },
    "tags": []
   },
   "outputs": [
    {
     "data": {
      "text/html": [
       "<div>\n",
       "<style scoped>\n",
       "    .dataframe tbody tr th:only-of-type {\n",
       "        vertical-align: middle;\n",
       "    }\n",
       "\n",
       "    .dataframe tbody tr th {\n",
       "        vertical-align: top;\n",
       "    }\n",
       "\n",
       "    .dataframe thead th {\n",
       "        text-align: right;\n",
       "    }\n",
       "</style>\n",
       "<table border=\"1\" class=\"dataframe\">\n",
       "  <thead>\n",
       "    <tr style=\"text-align: right;\">\n",
       "      <th></th>\n",
       "      <th>movieId</th>\n",
       "      <th>title</th>\n",
       "      <th>genres</th>\n",
       "      <th>userId</th>\n",
       "      <th>rating</th>\n",
       "      <th>timestamp</th>\n",
       "    </tr>\n",
       "  </thead>\n",
       "  <tbody>\n",
       "    <tr>\n",
       "      <th>0</th>\n",
       "      <td>1</td>\n",
       "      <td>Toy Story (1995)</td>\n",
       "      <td>Adventure|Animation|Children|Comedy|Fantasy</td>\n",
       "      <td>3.0</td>\n",
       "      <td>4.0</td>\n",
       "      <td>1999-12-11 13:36:47</td>\n",
       "    </tr>\n",
       "    <tr>\n",
       "      <th>1</th>\n",
       "      <td>1</td>\n",
       "      <td>Toy Story (1995)</td>\n",
       "      <td>Adventure|Animation|Children|Comedy|Fantasy</td>\n",
       "      <td>6.0</td>\n",
       "      <td>5.0</td>\n",
       "      <td>1997-03-13 17:50:52</td>\n",
       "    </tr>\n",
       "    <tr>\n",
       "      <th>2</th>\n",
       "      <td>1</td>\n",
       "      <td>Toy Story (1995)</td>\n",
       "      <td>Adventure|Animation|Children|Comedy|Fantasy</td>\n",
       "      <td>8.0</td>\n",
       "      <td>4.0</td>\n",
       "      <td>1996-06-05 13:37:51</td>\n",
       "    </tr>\n",
       "    <tr>\n",
       "      <th>3</th>\n",
       "      <td>1</td>\n",
       "      <td>Toy Story (1995)</td>\n",
       "      <td>Adventure|Animation|Children|Comedy|Fantasy</td>\n",
       "      <td>10.0</td>\n",
       "      <td>4.0</td>\n",
       "      <td>1999-11-25 02:44:47</td>\n",
       "    </tr>\n",
       "    <tr>\n",
       "      <th>4</th>\n",
       "      <td>1</td>\n",
       "      <td>Toy Story (1995)</td>\n",
       "      <td>Adventure|Animation|Children|Comedy|Fantasy</td>\n",
       "      <td>11.0</td>\n",
       "      <td>4.5</td>\n",
       "      <td>2009-01-02 01:13:41</td>\n",
       "    </tr>\n",
       "  </tbody>\n",
       "</table>\n",
       "</div>"
      ],
      "text/plain": [
       "   movieId             title                                       genres  \\\n",
       "0        1  Toy Story (1995)  Adventure|Animation|Children|Comedy|Fantasy   \n",
       "1        1  Toy Story (1995)  Adventure|Animation|Children|Comedy|Fantasy   \n",
       "2        1  Toy Story (1995)  Adventure|Animation|Children|Comedy|Fantasy   \n",
       "3        1  Toy Story (1995)  Adventure|Animation|Children|Comedy|Fantasy   \n",
       "4        1  Toy Story (1995)  Adventure|Animation|Children|Comedy|Fantasy   \n",
       "\n",
       "   userId  rating            timestamp  \n",
       "0     3.0     4.0  1999-12-11 13:36:47  \n",
       "1     6.0     5.0  1997-03-13 17:50:52  \n",
       "2     8.0     4.0  1996-06-05 13:37:51  \n",
       "3    10.0     4.0  1999-11-25 02:44:47  \n",
       "4    11.0     4.5  2009-01-02 01:13:41  "
      ]
     },
     "execution_count": 1,
     "metadata": {},
     "output_type": "execute_result"
    }
   ],
   "source": [
    "import pandas as pd\n",
    "pd.set_option('display.max_columns', 500)\n",
    "movie = pd.read_csv('/kaggle/input/recommender/recommender_systems/datasets/movie_lens_dataset/movie.csv')\n",
    "rating = pd.read_csv('/kaggle/input/recommender/recommender_systems/datasets/movie_lens_dataset/rating.csv')\n",
    "df = movie.merge(rating, how=\"left\", on=\"movieId\")\n",
    "df.head()"
   ]
  },
  {
   "cell_type": "markdown",
   "id": "6188f160",
   "metadata": {
    "papermill": {
     "duration": 0.003018,
     "end_time": "2023-10-15T19:47:24.842468",
     "exception": false,
     "start_time": "2023-10-15T19:47:24.839450",
     "status": "completed"
    },
    "tags": []
   },
   "source": [
    "### 2: User Movie Df'inin Oluşturulması"
   ]
  },
  {
   "cell_type": "code",
   "execution_count": 2,
   "id": "821a368a",
   "metadata": {
    "execution": {
     "iopub.execute_input": "2023-10-15T19:47:24.850651Z",
     "iopub.status.busy": "2023-10-15T19:47:24.850279Z",
     "iopub.status.idle": "2023-10-15T19:47:24.856694Z",
     "shell.execute_reply": "2023-10-15T19:47:24.855412Z"
    },
    "papermill": {
     "duration": 0.012972,
     "end_time": "2023-10-15T19:47:24.858728",
     "exception": false,
     "start_time": "2023-10-15T19:47:24.845756",
     "status": "completed"
    },
    "tags": []
   },
   "outputs": [
    {
     "data": {
      "text/plain": [
       "(20000797, 6)"
      ]
     },
     "execution_count": 2,
     "metadata": {},
     "output_type": "execute_result"
    }
   ],
   "source": [
    "\n",
    "df.head()\n",
    "df.shape"
   ]
  },
  {
   "cell_type": "code",
   "execution_count": 3,
   "id": "dbbf82bd",
   "metadata": {
    "execution": {
     "iopub.execute_input": "2023-10-15T19:47:24.867688Z",
     "iopub.status.busy": "2023-10-15T19:47:24.867310Z",
     "iopub.status.idle": "2023-10-15T19:48:21.843678Z",
     "shell.execute_reply": "2023-10-15T19:48:21.839878Z"
    },
    "papermill": {
     "duration": 56.996976,
     "end_time": "2023-10-15T19:48:21.859318",
     "exception": false,
     "start_time": "2023-10-15T19:47:24.862342",
     "status": "completed"
    },
    "tags": []
   },
   "outputs": [
    {
     "data": {
      "text/plain": [
       "Index([''burbs, The (1989)', '(500) Days of Summer (2009)',\n",
       "       '*batteries not included (1987)', '...And Justice for All (1979)',\n",
       "       '10 Things I Hate About You (1999)', '10,000 BC (2008)',\n",
       "       '101 Dalmatians (1996)',\n",
       "       '101 Dalmatians (One Hundred and One Dalmatians) (1961)',\n",
       "       '102 Dalmatians (2000)', '12 Angry Men (1957)',\n",
       "       ...\n",
       "       'Zero Dark Thirty (2012)', 'Zero Effect (1998)', 'Zodiac (2007)',\n",
       "       'Zombieland (2009)', 'Zoolander (2001)', 'Zulu (1964)', '[REC] (2007)',\n",
       "       'eXistenZ (1999)', 'xXx (2002)', '¡Three Amigos! (1986)'],\n",
       "      dtype='object', name='title', length=3159)"
      ]
     },
     "execution_count": 3,
     "metadata": {},
     "output_type": "execute_result"
    }
   ],
   "source": [
    "df[\"title\"].nunique()\n",
    "\n",
    "df[\"title\"].value_counts().head()\n",
    "\n",
    "comment_counts = pd.DataFrame(df[\"title\"].value_counts())\n",
    "rare_movies = comment_counts[comment_counts[\"title\"] <= 1000].index\n",
    "common_movies = df[~df[\"title\"].isin(rare_movies)]\n",
    "common_movies.shape\n",
    "common_movies[\"title\"].nunique()\n",
    "df[\"title\"].nunique()\n",
    "\n",
    "user_movie_df = common_movies.pivot_table(index=[\"userId\"], columns=[\"title\"], values=\"rating\")\n",
    "\n",
    "user_movie_df.shape\n",
    "user_movie_df.columns"
   ]
  },
  {
   "cell_type": "markdown",
   "id": "2bafbbf8",
   "metadata": {
    "papermill": {
     "duration": 0.004833,
     "end_time": "2023-10-15T19:48:21.868627",
     "exception": false,
     "start_time": "2023-10-15T19:48:21.863794",
     "status": "completed"
    },
    "tags": []
   },
   "source": [
    "#### Adım 3: Item-Based Film Önerilerinin Yapılması"
   ]
  },
  {
   "cell_type": "code",
   "execution_count": 4,
   "id": "62a038bd",
   "metadata": {
    "execution": {
     "iopub.execute_input": "2023-10-15T19:48:21.886628Z",
     "iopub.status.busy": "2023-10-15T19:48:21.885270Z",
     "iopub.status.idle": "2023-10-15T19:48:26.611786Z",
     "shell.execute_reply": "2023-10-15T19:48:26.610895Z"
    },
    "papermill": {
     "duration": 4.741951,
     "end_time": "2023-10-15T19:48:26.614190",
     "exception": false,
     "start_time": "2023-10-15T19:48:21.872239",
     "status": "completed"
    },
    "tags": []
   },
   "outputs": [
    {
     "data": {
      "text/plain": [
       "['Insomnia (1997)', 'Insomnia (2002)']"
      ]
     },
     "execution_count": 4,
     "metadata": {},
     "output_type": "execute_result"
    }
   ],
   "source": [
    "movie_name = \"Matrix, The (1999)\"\n",
    "movie_name = \"Ocean's Twelve (2004)\"\n",
    "movie_name = user_movie_df[movie_name]\n",
    "user_movie_df.corrwith(movie_name).sort_values(ascending=False).head(10)\n",
    "\n",
    "\n",
    "movie_name = pd.Series(user_movie_df.columns).sample(1).values[0]\n",
    "movie_name = user_movie_df[movie_name]\n",
    "user_movie_df.corrwith(movie_name).sort_values(ascending=False).head(10)\n",
    "\n",
    "\n",
    "def check_film(keyword, user_movie_df):\n",
    "    return [col for col in user_movie_df.columns if keyword in col]\n",
    "\n",
    "check_film(\"Insomnia\", user_movie_df)"
   ]
  },
  {
   "cell_type": "markdown",
   "id": "e7cb5e5f",
   "metadata": {
    "papermill": {
     "duration": 0.003537,
     "end_time": "2023-10-15T19:48:26.621598",
     "exception": false,
     "start_time": "2023-10-15T19:48:26.618061",
     "status": "completed"
    },
    "tags": []
   },
   "source": [
    "#### Adım 4: Çalışma Scriptinin Hazırlanması"
   ]
  },
  {
   "cell_type": "code",
   "execution_count": 5,
   "id": "511877d3",
   "metadata": {
    "execution": {
     "iopub.execute_input": "2023-10-15T19:48:26.632275Z",
     "iopub.status.busy": "2023-10-15T19:48:26.631893Z",
     "iopub.status.idle": "2023-10-15T19:48:26.639824Z",
     "shell.execute_reply": "2023-10-15T19:48:26.638479Z"
    },
    "papermill": {
     "duration": 0.016249,
     "end_time": "2023-10-15T19:48:26.642190",
     "exception": false,
     "start_time": "2023-10-15T19:48:26.625941",
     "status": "completed"
    },
    "tags": []
   },
   "outputs": [],
   "source": [
    "def create_user_movie_df():\n",
    "    import pandas as pd\n",
    "    movie = pd.read_csv('/kaggle/input/recommender/recommender_systems/datasets/movie_lens_dataset/movie.csv')\n",
    "    rating = pd.read_csv('/kaggle/input/recommender/recommender_systems/datasets/movie_lens_dataset/rating.csv')\n",
    "    df = movie.merge(rating, how=\"left\", on=\"movieId\")\n",
    "    comment_counts = pd.DataFrame(df[\"title\"].value_counts())\n",
    "    rare_movies = comment_counts[comment_counts[\"title\"] <= 1000].index\n",
    "    common_movies = df[~df[\"title\"].isin(rare_movies)]\n",
    "    user_movie_df = common_movies.pivot_table(index=[\"userId\"], columns=[\"title\"], values=\"rating\")\n",
    "    return user_movie_df"
   ]
  },
  {
   "cell_type": "code",
   "execution_count": 6,
   "id": "0d6305bb",
   "metadata": {
    "execution": {
     "iopub.execute_input": "2023-10-15T19:48:26.651735Z",
     "iopub.status.busy": "2023-10-15T19:48:26.651240Z",
     "iopub.status.idle": "2023-10-15T19:49:56.011129Z",
     "shell.execute_reply": "2023-10-15T19:49:56.009769Z"
    },
    "papermill": {
     "duration": 89.367369,
     "end_time": "2023-10-15T19:49:56.013660",
     "exception": false,
     "start_time": "2023-10-15T19:48:26.646291",
     "status": "completed"
    },
    "tags": []
   },
   "outputs": [],
   "source": [
    "user_movie_df = create_user_movie_df()"
   ]
  },
  {
   "cell_type": "code",
   "execution_count": 7,
   "id": "0baa297d",
   "metadata": {
    "execution": {
     "iopub.execute_input": "2023-10-15T19:49:56.023153Z",
     "iopub.status.busy": "2023-10-15T19:49:56.022740Z",
     "iopub.status.idle": "2023-10-15T19:49:56.027757Z",
     "shell.execute_reply": "2023-10-15T19:49:56.026843Z"
    },
    "papermill": {
     "duration": 0.012024,
     "end_time": "2023-10-15T19:49:56.029760",
     "exception": false,
     "start_time": "2023-10-15T19:49:56.017736",
     "status": "completed"
    },
    "tags": []
   },
   "outputs": [],
   "source": [
    "def item_based_recommender(movie_name, user_movie_df):\n",
    "    movie_name = user_movie_df[movie_name]\n",
    "    return user_movie_df.corrwith(movie_name).sort_values(ascending=False).head(10)"
   ]
  },
  {
   "cell_type": "code",
   "execution_count": 8,
   "id": "c02d9d77",
   "metadata": {
    "execution": {
     "iopub.execute_input": "2023-10-15T19:49:56.038375Z",
     "iopub.status.busy": "2023-10-15T19:49:56.037669Z",
     "iopub.status.idle": "2023-10-15T19:50:01.735407Z",
     "shell.execute_reply": "2023-10-15T19:50:01.734338Z"
    },
    "papermill": {
     "duration": 5.704656,
     "end_time": "2023-10-15T19:50:01.737926",
     "exception": false,
     "start_time": "2023-10-15T19:49:56.033270",
     "status": "completed"
    },
    "tags": []
   },
   "outputs": [
    {
     "data": {
      "text/plain": [
       "title\n",
       "Motorcycle Diaries, The (Diarios de motocicleta) (2004)                            1.000000\n",
       "French Twist (Gazon maudit) (1995)                                                 0.606863\n",
       "Associate, The (1996)                                                              0.563669\n",
       "Auntie Mame (1958)                                                                 0.552423\n",
       "Crossing Guard, The (1995)                                                         0.529065\n",
       "Armour of God II: Operation Condor (Operation Condor) (Fei ying gai wak) (1991)    0.522591\n",
       "Kagemusha (1980)                                                                   0.520201\n",
       "War, The (1994)                                                                    0.513198\n",
       "Before and After (1996)                                                            0.511177\n",
       "Tender Mercies (1983)                                                              0.507952\n",
       "dtype: float64"
      ]
     },
     "execution_count": 8,
     "metadata": {},
     "output_type": "execute_result"
    }
   ],
   "source": [
    "item_based_recommender(\"Matrix, The (1999)\", user_movie_df)\n",
    "\n",
    "movie_name = pd.Series(user_movie_df.columns).sample(1).values[0]\n",
    "\n",
    "item_based_recommender(movie_name, user_movie_df)"
   ]
  }
 ],
 "metadata": {
  "kernelspec": {
   "display_name": "Python 3",
   "language": "python",
   "name": "python3"
  },
  "language_info": {
   "codemirror_mode": {
    "name": "ipython",
    "version": 3
   },
   "file_extension": ".py",
   "mimetype": "text/x-python",
   "name": "python",
   "nbconvert_exporter": "python",
   "pygments_lexer": "ipython3",
   "version": "3.7.12"
  },
  "papermill": {
   "default_parameters": {},
   "duration": 204.547696,
   "end_time": "2023-10-15T19:50:04.568463",
   "environment_variables": {},
   "exception": null,
   "input_path": "__notebook__.ipynb",
   "output_path": "__notebook__.ipynb",
   "parameters": {},
   "start_time": "2023-10-15T19:46:40.020767",
   "version": "2.3.4"
  }
 },
 "nbformat": 4,
 "nbformat_minor": 5
}
